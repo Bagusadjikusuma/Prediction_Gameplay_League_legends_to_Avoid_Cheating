{
 "cells": [
  {
   "cell_type": "code",
   "execution_count": 1,
   "metadata": {},
   "outputs": [],
   "source": [
    "import pickle\n",
    "import json\n",
    "import pandas as pd\n",
    "import numpy as np"
   ]
  },
  {
   "cell_type": "code",
   "execution_count": 2,
   "metadata": {},
   "outputs": [],
   "source": [
    "with open('best_pipe_SVM.pkl', 'rb') as file_3:\n",
    "  best_pipe_svm = pickle.load(file_3)"
   ]
  },
  {
   "cell_type": "code",
   "execution_count": 3,
   "metadata": {},
   "outputs": [
    {
     "data": {
      "text/html": [
       "<div>\n",
       "<style scoped>\n",
       "    .dataframe tbody tr th:only-of-type {\n",
       "        vertical-align: middle;\n",
       "    }\n",
       "\n",
       "    .dataframe tbody tr th {\n",
       "        vertical-align: top;\n",
       "    }\n",
       "\n",
       "    .dataframe thead th {\n",
       "        text-align: right;\n",
       "    }\n",
       "</style>\n",
       "<table border=\"1\" class=\"dataframe\">\n",
       "  <thead>\n",
       "    <tr style=\"text-align: right;\">\n",
       "      <th></th>\n",
       "      <th>gameId</th>\n",
       "      <th>blueWardsPlaced</th>\n",
       "      <th>blueWardsDestroyed</th>\n",
       "      <th>blueFirstBlood</th>\n",
       "      <th>blueKills</th>\n",
       "      <th>blueDeaths</th>\n",
       "      <th>blueAssists</th>\n",
       "      <th>blueEliteMonsters</th>\n",
       "      <th>blueDragons</th>\n",
       "      <th>blueHeralds</th>\n",
       "      <th>blueTowersDestroyed</th>\n",
       "      <th>blueTotalGold</th>\n",
       "      <th>blueAvgLevel</th>\n",
       "      <th>blueTotalExperience</th>\n",
       "      <th>blueTotalMinionsKilled</th>\n",
       "      <th>blueTotalJungleMinionsKilled</th>\n",
       "      <th>blueGoldDiff</th>\n",
       "      <th>blueExperienceDiff</th>\n",
       "      <th>blueCSPerMin</th>\n",
       "      <th>blueGoldPerMin</th>\n",
       "    </tr>\n",
       "  </thead>\n",
       "  <tbody>\n",
       "    <tr>\n",
       "      <th>0</th>\n",
       "      <td>4518157833</td>\n",
       "      <td>1</td>\n",
       "      <td>27</td>\n",
       "      <td>5</td>\n",
       "      <td>15</td>\n",
       "      <td>6</td>\n",
       "      <td>11</td>\n",
       "      <td>1</td>\n",
       "      <td>1</td>\n",
       "      <td>1</td>\n",
       "      <td>0</td>\n",
       "      <td>16115</td>\n",
       "      <td>6.7</td>\n",
       "      <td>16265</td>\n",
       "      <td>203</td>\n",
       "      <td>44</td>\n",
       "      <td>698</td>\n",
       "      <td>101</td>\n",
       "      <td>22.0</td>\n",
       "      <td>1515.7</td>\n",
       "    </tr>\n",
       "  </tbody>\n",
       "</table>\n",
       "</div>"
      ],
      "text/plain": [
       "       gameId  blueWardsPlaced  blueWardsDestroyed  blueFirstBlood  blueKills  \\\n",
       "0  4518157833                1                  27               5         15   \n",
       "\n",
       "   blueDeaths  blueAssists  blueEliteMonsters  blueDragons  blueHeralds  \\\n",
       "0           6           11                  1            1            1   \n",
       "\n",
       "   blueTowersDestroyed  blueTotalGold  blueAvgLevel  blueTotalExperience  \\\n",
       "0                    0          16115           6.7                16265   \n",
       "\n",
       "   blueTotalMinionsKilled  blueTotalJungleMinionsKilled  blueGoldDiff  \\\n",
       "0                     203                            44           698   \n",
       "\n",
       "   blueExperienceDiff  blueCSPerMin  blueGoldPerMin  \n",
       "0                 101          22.0          1515.7  "
      ]
     },
     "execution_count": 3,
     "metadata": {},
     "output_type": "execute_result"
    }
   ],
   "source": [
    "# Membuat dataset baru\n",
    "data_inf = {\n",
    "    'gameId': 4518157833,\n",
    "    'blueWardsPlaced':1,\n",
    "    'blueWardsDestroyed':27,\n",
    "    'blueFirstBlood':5,\n",
    "    'blueKills':15,\n",
    "    'blueDeaths':6,\n",
    "    'blueAssists':11,\n",
    "    'blueEliteMonsters':1,\n",
    "    'blueDragons':1,\n",
    "    'blueHeralds':1,\n",
    "    'blueTowersDestroyed':0,\n",
    "    'blueTotalGold':16115,\n",
    "    'blueAvgLevel':6.7,\n",
    "    'blueTotalExperience':16265,\n",
    "    'blueTotalMinionsKilled':203,\n",
    "    'blueTotalJungleMinionsKilled':44,\n",
    "    'blueGoldDiff':698,\n",
    "    'blueExperienceDiff':101,\n",
    "    'blueCSPerMin':22.0,\n",
    "    'blueGoldPerMin':1515.7\n",
    "}\n",
    "\n",
    "data_inf = pd.DataFrame([data_inf])\n",
    "data_inf"
   ]
  },
  {
   "cell_type": "code",
   "execution_count": 5,
   "metadata": {},
   "outputs": [
    {
     "data": {
      "text/plain": [
       "array([1], dtype=int64)"
      ]
     },
     "execution_count": 5,
     "metadata": {},
     "output_type": "execute_result"
    }
   ],
   "source": [
    "pred_inf_final = best_pipe_svm.predict(data_inf)\n",
    "\n",
    "pred_inf_final"
   ]
  }
 ],
 "metadata": {
  "kernelspec": {
   "display_name": "base",
   "language": "python",
   "name": "python3"
  },
  "language_info": {
   "codemirror_mode": {
    "name": "ipython",
    "version": 3
   },
   "file_extension": ".py",
   "mimetype": "text/x-python",
   "name": "python",
   "nbconvert_exporter": "python",
   "pygments_lexer": "ipython3",
   "version": "3.11.7"
  }
 },
 "nbformat": 4,
 "nbformat_minor": 2
}
